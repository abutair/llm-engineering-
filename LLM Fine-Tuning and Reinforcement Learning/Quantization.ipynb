{
 "cells": [
  {
   "cell_type": "code",
   "execution_count": 4,
   "metadata": {},
   "outputs": [
    {
     "data": {
      "application/vnd.jupyter.widget-view+json": {
       "model_id": "96fc313027c54b48ae13d27e8ce28974",
       "version_major": 2,
       "version_minor": 0
      },
      "text/plain": [
       "VBox(children=(HTML(value='<center> <img\\nsrc=https://huggingface.co/front/assets/huggingface_logo-noborder.sv…"
      ]
     },
     "metadata": {},
     "output_type": "display_data"
    }
   ],
   "source": [
    "from huggingface_hub import login\n",
    "login()"
   ]
  },
  {
   "cell_type": "code",
   "execution_count": null,
   "metadata": {},
   "outputs": [],
   "source": [
    "from transformers import AutoModelForCausalLM, BitsAndBytesConfig\n",
    "import torch\n",
    "\n",
    "\n",
    "model_name = \"meta-llama/Llama-3.2-1B-Instruct\"\n",
    "\n",
    "quantization_config_8bit = BitsAndBytesConfig(load_in_8bit=True)\n",
    "\n",
    "quantization_config_4bit = BitsAndBytesConfig(load_in_4bit=True)\n",
    "\n",
    "\n",
    "model_4bit = AutoModelForCausalLM.from_pretrained(\n",
    "    model_name,\n",
    "    quantization_config=quantization_config_4bit,\n",
    "    device_map=\"auto\"\n",
    ")\n",
    "\n",
    "\n",
    "model_8bit = AutoModelForCausalLM.from_pretrained(\n",
    "    model_name,\n",
    "    quantization_config=quantization_config_8bit,\n",
    "    device_map=\"auto\"\n",
    ")\n",
    "\n",
    "\n",
    "model_16bit = AutoModelForCausalLM.from_pretrained(\n",
    "    model_name,\n",
    "    torch_dtype=torch.bfloat16,\n",
    "    device_map=\"auto\"\n",
    ")\n",
    "\n",
    "model_32bit = AutoModelForCausalLM.from_pretrained(\n",
    "    model_name,\n",
    "    device_map=\"auto\"\n",
    ")\n"
   ]
  },
  {
   "cell_type": "code",
   "execution_count": null,
   "metadata": {},
   "outputs": [],
   "source": [
    "import torch \n",
    "\n",
    "def print_model_size_in_mb_gb(model):\n",
    "    \n",
    "    param_size = 0\n",
    "    for param in model.paramters():\n",
    "        param_size += param.numel() * param.element_size()\n",
    "\n",
    "    buffer_size=0\n",
    "\n",
    "    for buffer in model.buffers():\n",
    "        buffer_size += buffer.numel()* buffer.element_size()\n",
    "\n",
    "    size_bytes = param_size + buffer_size\n",
    "    size_mb = size_bytes/(1024**2)\n",
    "    size_gb = size_mb /1024\n",
    "    \n",
    "    print(f\"Model toplam boyutu: {size_mb:.2f} MB ({size_gb:.2f} GB)\")\n",
    "\n",
    "print_model_size_in_mb_gb(model_4bit)\n",
    "print_model_size_in_mb_gb(model_8bit)\n",
    "print_model_size_in_mb_gb(model_16bit)\n",
    "print_model_size_in_mb_gb(model_32bit)"
   ]
  },
  {
   "cell_type": "code",
   "execution_count": null,
   "metadata": {},
   "outputs": [],
   "source": [
    "import torch\n",
    "\n",
    "torch.set_printoptions(precision=8, sci_mode=False)\n",
    "\n",
    "layer_quantized = model_32bit.model.layers[0]\n",
    "weight_quantized = layer_quantized.self_attn.q_proj.weight\n",
    "\n",
    "print(\"32 bit Weight Value:\")\n",
    "print(weight_quantized)"
   ]
  },
  {
   "cell_type": "code",
   "execution_count": null,
   "metadata": {},
   "outputs": [],
   "source": [
    "import torch\n",
    "\n",
    "torch.set_printoptions(precision=8, sci_mode=False)\n",
    "\n",
    "layer_quantized = model_8bit.model.layers[0]\n",
    "weight_quantized = layer_quantized.self_attn.q_proj.weight\n",
    "\n",
    "print(\"8 bit Weight Value:\")\n",
    "print(weight_quantized)"
   ]
  },
  {
   "cell_type": "code",
   "execution_count": null,
   "metadata": {},
   "outputs": [],
   "source": [
    "layer_quantized = model_32bit.model.layers[0]\n",
    "weight_quantized_max = layer_quantized.self_attn.q_proj.weight.max()\n",
    "weight_quantized_min = layer_quantized.self_attn.q_proj.weight.min()\n",
    "\n",
    "print(\"32 bit Ağırlık Değeri:\")\n",
    "print(f\"weight_quantized_max {weight_quantized_max}\")\n",
    "print(f\"weight_quantized_min {weight_quantized_min}\")"
   ]
  },
  {
   "cell_type": "code",
   "execution_count": null,
   "metadata": {},
   "outputs": [],
   "source": [
    "layer_quantized = model_8bit.model.layers[0]\n",
    "weight_quantized_max = layer_quantized.self_attn.q_proj.weight.max()\n",
    "weight_quantized_min = layer_quantized.self_attn.q_proj.weight.min()\n",
    "\n",
    "print(\"8 bit Ağırlık Değeri:\")\n",
    "print(f\"weight_quantized_max {weight_quantized_max}\")\n",
    "print(f\"weight_quantized_min {weight_quantized_min}\")"
   ]
  },
  {
   "cell_type": "code",
   "execution_count": null,
   "metadata": {},
   "outputs": [],
   "source": [
    "model_32bit"
   ]
  },
  {
   "cell_type": "code",
   "execution_count": null,
   "metadata": {},
   "outputs": [],
   "source": [
    "model_8bit"
   ]
  },
  {
   "cell_type": "code",
   "execution_count": null,
   "metadata": {},
   "outputs": [],
   "source": [
    "model_4bit"
   ]
  },
  {
   "cell_type": "code",
   "execution_count": null,
   "metadata": {},
   "outputs": [],
   "source": [
    "model_16bit"
   ]
  },
  {
   "cell_type": "code",
   "execution_count": null,
   "metadata": {},
   "outputs": [],
   "source": [
    "import torch\n",
    "\n",
    "torch.cuda.empty_cache()\n",
    "start_mem = torch.cuda.memory_allocated(device=0)\n",
    "model_8bit = AutoModelForCausalLM.from_pretrained(\n",
    "    model_name,\n",
    "    quantization_config=quantization_config_8bit,\n",
    "    device_map=\"auto\"\n",
    ")\n",
    "end_mem = torch.cuda.memory_allocated(device=0)\n",
    "used_mem = end_mem - start_mem\n",
    "print(f\"8-bit model GPU memory usage: {used_mem/1024**2:.2f} MB\")"
   ]
  },
  {
   "cell_type": "code",
   "execution_count": null,
   "metadata": {},
   "outputs": [],
   "source": []
  }
 ],
 "metadata": {
  "kernelspec": {
   "display_name": "Python 3",
   "language": "python",
   "name": "python3"
  },
  "language_info": {
   "codemirror_mode": {
    "name": "ipython",
    "version": 3
   },
   "file_extension": ".py",
   "mimetype": "text/x-python",
   "name": "python",
   "nbconvert_exporter": "python",
   "pygments_lexer": "ipython3",
   "version": "3.9.19"
  }
 },
 "nbformat": 4,
 "nbformat_minor": 2
}
